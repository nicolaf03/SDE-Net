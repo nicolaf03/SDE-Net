{
 "cells": [
  {
   "cell_type": "code",
   "execution_count": 6,
   "metadata": {},
   "outputs": [],
   "source": [
    "from pathlib import Path\n",
    "import pandas as pd\n",
    "from pytorch_forecasting.data.timeseries import TimeSeriesDataSet\n",
    "import os"
   ]
  },
  {
   "cell_type": "code",
   "execution_count": 2,
   "metadata": {},
   "outputs": [
    {
     "name": "stdout",
     "output_type": "stream",
     "text": [
      "Building SUD data loader with 0 workers\n"
     ]
    }
   ],
   "source": [
    "zone='SUD'\n",
    "batch_size=256\n",
    "test_batch_size=1000\n",
    "\n",
    "num_workers = 0\n",
    "print(f'Building {zone} data loader with {num_workers} workers')"
   ]
  },
  {
   "cell_type": "code",
   "execution_count": 7,
   "metadata": {},
   "outputs": [],
   "source": [
    "PATH = 'data'\n",
    "FILE = os.path.join(PATH, f'wind_{zone}.csv')\n",
    "\n",
    "data = pd.read_csv(FILE)"
   ]
  },
  {
   "cell_type": "code",
   "execution_count": 8,
   "metadata": {},
   "outputs": [],
   "source": [
    "min_encoder_length = 0\n",
    "max_encoder_length = 400\n",
    "min_prediction_length = 1\n",
    "max_prediction_length = 7\n",
    "training_cutoff = data[\"time_idx\"].max() - max_prediction_length"
   ]
  },
  {
   "cell_type": "code",
   "execution_count": 9,
   "metadata": {},
   "outputs": [
    {
     "name": "stderr",
     "output_type": "stream",
     "text": [
      "/Users/nicolafraccarolo/env/wind/lib/python3.10/site-packages/pytorch_forecasting/data/timeseries.py:1282: UserWarning: Min encoder length and/or min_prediction_idx and/or min prediction length and/or lags are too large for 196 series/groups which therefore are not present in the dataset index. This means no predictions can be made for those series. First 10 removed groups: [{'__group_id__energy': 0.2}, {'__group_id__energy': 0.3}, {'__group_id__energy': 0.5}, {'__group_id__energy': 1.6}, {'__group_id__energy': 1.9}, {'__group_id__energy': 2.1}, {'__group_id__energy': 4.2}, {'__group_id__energy': 4.4}, {'__group_id__energy': 5.6}, {'__group_id__energy': 5.7}]\n",
      "  warnings.warn(\n"
     ]
    }
   ],
   "source": [
    "training = TimeSeriesDataSet(\n",
    "    data[lambda x: x.time_idx <= training_cutoff],\n",
    "    time_idx='time_idx',\n",
    "    target='energy',\n",
    "    group_ids=['energy'],\n",
    "    min_encoder_length=min_encoder_length,\n",
    "    max_encoder_length=max_encoder_length,\n",
    "    min_prediction_length=min_prediction_length,\n",
    "    max_prediction_length=max_prediction_length,\n",
    "    # target_normalizer=,\n",
    "    allow_missing_timesteps=True,\n",
    "    time_varying_unknown_reals=['energy']\n",
    ")\n",
    "\n",
    "testing = TimeSeriesDataSet.from_dataset(\n",
    "    training, data, predict=True, stop_randomization=True\n",
    ")"
   ]
  },
  {
   "cell_type": "code",
   "execution_count": 34,
   "metadata": {},
   "outputs": [],
   "source": [
    "# create dataloaders for model\n",
    "train_loader = training.to_dataloader(\n",
    "    train=True, batch_size=batch_size, num_workers=0\n",
    ")\n",
    "test_loader = testing.to_dataloader(\n",
    "    train=False, batch_size=test_batch_size, num_workers=0\n",
    ")"
   ]
  },
  {
   "cell_type": "code",
   "execution_count": 35,
   "metadata": {},
   "outputs": [
    {
     "data": {
      "text/plain": [
       "16"
      ]
     },
     "execution_count": 35,
     "metadata": {},
     "output_type": "execute_result"
    }
   ],
   "source": [
    "len(train_loader)"
   ]
  },
  {
   "cell_type": "code",
   "execution_count": 63,
   "metadata": {},
   "outputs": [
    {
     "data": {
      "text/plain": [
       "(dict, 11)"
      ]
     },
     "execution_count": 63,
     "metadata": {},
     "output_type": "execute_result"
    }
   ],
   "source": [
    "type(next(iter(train_loader))[0]), len(next(iter(train_loader))[0])"
   ]
  },
  {
   "cell_type": "code",
   "execution_count": 64,
   "metadata": {},
   "outputs": [
    {
     "data": {
      "text/plain": [
       "(tuple, 2)"
      ]
     },
     "execution_count": 64,
     "metadata": {},
     "output_type": "execute_result"
    }
   ],
   "source": [
    "type(next(iter(train_loader))[1]), len(next(iter(train_loader))[1])"
   ]
  },
  {
   "cell_type": "code",
   "execution_count": 65,
   "metadata": {},
   "outputs": [
    {
     "data": {
      "text/plain": [
       "(tensor([[ 2.0000,  2.0000,  2.0000,  ...,  2.0000,  2.0000,  2.0000],\n",
       "         [20.2000, 20.2000, 20.2000,  ..., 20.2000, 20.2000, 20.2000],\n",
       "         [ 6.9000,  0.0000,  0.0000,  ...,  0.0000,  0.0000,  0.0000],\n",
       "         ...,\n",
       "         [26.7000,  0.0000,  0.0000,  ...,  0.0000,  0.0000,  0.0000],\n",
       "         [26.7000,  0.0000,  0.0000,  ...,  0.0000,  0.0000,  0.0000],\n",
       "         [ 1.5000,  1.5000,  1.5000,  ...,  1.5000,  1.5000,  1.5000]]),\n",
       " None)"
      ]
     },
     "execution_count": 65,
     "metadata": {},
     "output_type": "execute_result"
    }
   ],
   "source": [
    "next(iter(train_loader))[1]"
   ]
  },
  {
   "cell_type": "code",
   "execution_count": 52,
   "metadata": {},
   "outputs": [
    {
     "data": {
      "text/plain": [
       "dict_keys(['encoder_cat', 'encoder_cont', 'encoder_target', 'encoder_lengths', 'decoder_cat', 'decoder_cont', 'decoder_target', 'decoder_lengths', 'decoder_time_idx', 'groups', 'target_scale'])"
      ]
     },
     "execution_count": 52,
     "metadata": {},
     "output_type": "execute_result"
    }
   ],
   "source": [
    "next(iter(train_loader))[0].keys()"
   ]
  },
  {
   "cell_type": "code",
   "execution_count": 60,
   "metadata": {},
   "outputs": [
    {
     "name": "stdout",
     "output_type": "stream",
     "text": [
      "encoder_cat \t torch.Size([256, 400, 0])\n",
      "encoder_cont \t torch.Size([256, 400, 2])\n",
      "encoder_target \t torch.Size([256, 399])\n",
      "encoder_lengths \t torch.Size([256])\n",
      "decoder_cat \t torch.Size([256, 7, 0])\n",
      "decoder_cont \t torch.Size([256, 7, 2])\n",
      "decoder_target \t torch.Size([256, 7])\n",
      "decoder_lengths \t torch.Size([256])\n",
      "decoder_time_idx \t torch.Size([256, 7])\n",
      "groups \t torch.Size([256, 1])\n",
      "target_scale \t torch.Size([256, 2])\n"
     ]
    }
   ],
   "source": [
    "for k in next(iter(train_loader))[0].keys():\n",
    "    print(k, '\\t', next(iter(train_loader))[0][k].shape)"
   ]
  },
  {
   "cell_type": "code",
   "execution_count": null,
   "metadata": {},
   "outputs": [],
   "source": []
  }
 ],
 "metadata": {
  "kernelspec": {
   "display_name": "wind",
   "language": "python",
   "name": "python3"
  },
  "language_info": {
   "codemirror_mode": {
    "name": "ipython",
    "version": 3
   },
   "file_extension": ".py",
   "mimetype": "text/x-python",
   "name": "python",
   "nbconvert_exporter": "python",
   "pygments_lexer": "ipython3",
   "version": "3.10.9"
  },
  "orig_nbformat": 4,
  "vscode": {
   "interpreter": {
    "hash": "fb6707dcd84a74c76908297b6fe888adc64c85786dcb2945987a0cfa99b34712"
   }
  }
 },
 "nbformat": 4,
 "nbformat_minor": 2
}
